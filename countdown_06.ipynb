{
  "nbformat": 4,
  "nbformat_minor": 0,
  "metadata": {
    "colab": {
      "provenance": [],
      "authorship_tag": "ABX9TyMxRU01UT7r5A4p3HDbXfav",
      "include_colab_link": true
    },
    "kernelspec": {
      "name": "python3",
      "display_name": "Python 3"
    },
    "language_info": {
      "name": "python"
    }
  },
  "cells": [
    {
      "cell_type": "markdown",
      "metadata": {
        "id": "view-in-github",
        "colab_type": "text"
      },
      "source": [
        "<a href=\"https://colab.research.google.com/github/maeyda-masroor/25-project-_-python/blob/main/countdown_06.ipynb\" target=\"_parent\"><img src=\"https://colab.research.google.com/assets/colab-badge.svg\" alt=\"Open In Colab\"/></a>"
      ]
    },
    {
      "cell_type": "code",
      "execution_count": null,
      "metadata": {
        "colab": {
          "base_uri": "https://localhost:8080/"
        },
        "id": "C1nT-FwU9rQL",
        "outputId": "e648e2aa-f7a8-4100-b09f-f50bbc0c4fa4"
      },
      "outputs": [
        {
          "output_type": "stream",
          "name": "stdout",
          "text": [
            "00 : 02\n"
          ]
        }
      ],
      "source": [
        "import time\n",
        "from IPython.display import clear_output\n",
        "\n",
        "def countdown(t):\n",
        "    while t >= 0:\n",
        "        mins, secs = divmod(t, 60)\n",
        "        timer = f\"{mins:02d} : {secs:02d}\"\n",
        "        clear_output(wait=True)\n",
        "        print(timer)\n",
        "        time.sleep(1)\n",
        "        t -= 1\n",
        "    print(\"00 : 00\\nTimer complete!\")\n",
        "\n",
        "try:\n",
        "    t = int(input(\"Enter time in seconds: \"))\n",
        "    countdown(t)\n",
        "except ValueError:\n",
        "    print(\"Please enter a valid integer.\")\n"
      ]
    }
  ]
}