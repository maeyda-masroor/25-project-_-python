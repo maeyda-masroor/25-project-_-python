{
  "nbformat": 4,
  "nbformat_minor": 0,
  "metadata": {
    "colab": {
      "provenance": [],
      "authorship_tag": "ABX9TyNNHIkLniFrAgTtalt1uzk4",
      "include_colab_link": true
    },
    "kernelspec": {
      "name": "python3",
      "display_name": "Python 3"
    },
    "language_info": {
      "name": "python"
    }
  },
  "cells": [
    {
      "cell_type": "markdown",
      "metadata": {
        "id": "view-in-github",
        "colab_type": "text"
      },
      "source": [
        "<a href=\"https://colab.research.google.com/github/maeyda-masroor/25-project-_-python/blob/main/madlib_01.ipynb\" target=\"_parent\"><img src=\"https://colab.research.google.com/assets/colab-badge.svg\" alt=\"Open In Colab\"/></a>"
      ]
    },
    {
      "cell_type": "code",
      "execution_count": null,
      "metadata": {
        "id": "qwq5XMIWOaEt",
        "colab": {
          "base_uri": "https://localhost:8080/"
        },
        "outputId": "f5dadb03-5798-478e-95ca-ee23d46dbc85"
      },
      "outputs": [
        {
          "output_type": "stream",
          "name": "stdout",
          "text": [
            "Adjectivezz\n",
            "verb1xx\n",
            "verb2zz\n",
            "famous personxx\n",
            "computer programming is so zz it make me excited all time because i love it xx stay hydrated and like you a famous person xx and zz\n"
          ]
        }
      ],
      "source": [
        "adj = input(\"Adjective\")\n",
        "verb1 = input(\"verb1\")\n",
        "verb2 = input(\"verb2\")\n",
        "famous_person = input(\"famous person\")\n",
        "print(f\"computer programming is so {adj} it make me excited all time because i love it {verb1} stay hydrated and like you a famous person {famous_person} and {verb2}\")"
      ]
    }
  ]
}